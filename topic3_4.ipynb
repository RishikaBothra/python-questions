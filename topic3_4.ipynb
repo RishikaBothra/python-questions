{
 "cells": [
  {
   "cell_type": "markdown",
   "metadata": {},
   "source": [
    "Hard Questions"
   ]
  },
  {
   "cell_type": "markdown",
   "metadata": {},
   "source": [
    "1. You are given a rectangular grid of size M×N. You have an unlimited supply of\n",
    "dominoes, each of size 2×1. Your task is to determine the maximum number of\n",
    "dominoes that can fit on the grid, following these rules:\n",
    "\n",
    "a. Each domino must cover exactly two grid squares.\n",
    "\n",
    "b. No two dominoes can overlap.\n",
    "\n",
    "c. Each domino must lie entirely within the grid."
   ]
  },
  {
   "cell_type": "code",
   "execution_count": 3,
   "metadata": {},
   "outputs": [
    {
     "ename": "ValueError",
     "evalue": "invalid literal for int() with base 10: ''",
     "output_type": "error",
     "traceback": [
      "\u001b[1;31m---------------------------------------------------------------------------\u001b[0m",
      "\u001b[1;31mValueError\u001b[0m                                Traceback (most recent call last)",
      "Cell \u001b[1;32mIn[3], line 3\u001b[0m\n\u001b[0;32m      1\u001b[0m \u001b[38;5;28;01mdef\u001b[39;00m \u001b[38;5;21mdomino\u001b[39m(m,n):\n\u001b[0;32m      2\u001b[0m     \u001b[38;5;28;01mreturn\u001b[39;00m (m\u001b[38;5;241m*\u001b[39mn)\u001b[38;5;241m/\u001b[39m\u001b[38;5;241m/\u001b[39m\u001b[38;5;241m2\u001b[39m\n\u001b[1;32m----> 3\u001b[0m n \u001b[38;5;241m=\u001b[39m \u001b[38;5;28;43mint\u001b[39;49m\u001b[43m(\u001b[49m\u001b[38;5;28;43minput\u001b[39;49m\u001b[43m(\u001b[49m\u001b[38;5;124;43m\"\u001b[39;49m\u001b[38;5;124;43menter the value of n:\u001b[39;49m\u001b[38;5;124;43m\"\u001b[39;49m\u001b[43m)\u001b[49m\u001b[43m)\u001b[49m\n\u001b[0;32m      4\u001b[0m m \u001b[38;5;241m=\u001b[39m \u001b[38;5;28mint\u001b[39m(\u001b[38;5;28minput\u001b[39m(\u001b[38;5;124m\"\u001b[39m\u001b[38;5;124menter the value of m:\u001b[39m\u001b[38;5;124m\"\u001b[39m))\n\u001b[0;32m      5\u001b[0m \u001b[38;5;28mprint\u001b[39m(domino(m,n))\n",
      "\u001b[1;31mValueError\u001b[0m: invalid literal for int() with base 10: ''"
     ]
    }
   ],
   "source": [
    "def domino(m,n):\n",
    "    return (m*n)//2\n",
    "n = int(input(\"enter the value of n:\"))\n",
    "m = int(input(\"enter the value of m:\"))\n",
    "print(domino(m,n))"
   ]
  },
  {
   "cell_type": "markdown",
   "metadata": {},
   "source": [
    "2. An elephant decided to visit his friend. It turned out that the elephant's house is\n",
    "located at point 0 and his friend's house is located at point x(x > 0) of the coordinate\n",
    "line. In one step the elephant can move 1, 2, 3, 4 or 5 positions forward. Determine,what is the minimum number of steps he need to make in order to get to his friend's\n",
    "house."
   ]
  },
  {
   "cell_type": "code",
   "execution_count": 4,
   "metadata": {},
   "outputs": [
    {
     "name": "stdout",
     "output_type": "stream",
     "text": [
      "3\n"
     ]
    }
   ],
   "source": [
    "def min_steps(x):\n",
    "    return(x+4)//5\n",
    "x = int(input(\"enter the number x:\"))\n",
    "print(min_steps(x))"
   ]
  },
  {
   "cell_type": "markdown",
   "metadata": {},
   "source": [
    "3. You are provided with a large text file containing data entries, each on a new line.\n",
    "Each entry consists of a name followed by a list of integers (e.g., John 12 15 19 22).\n",
    "\n",
    "Write a Python program to:\n",
    "\n",
    "a. Read the file and process each line.\n",
    "\n",
    "b. Calculate the sum of integers for each name.\n",
    "\n",
    "c. Identify the name with the highest sum.\n",
    "\n",
    "d. Output the name and the corresponding sum to a new file."
   ]
  },
  {
   "cell_type": "code",
   "execution_count": 6,
   "metadata": {},
   "outputs": [
    {
     "name": "stdout",
     "output_type": "stream",
     "text": [
      "Processed successfully. Highest entry: Charlie with sum 80\n"
     ]
    }
   ],
   "source": [
    "def process_data_file(input_file, output_file):\n",
    "    highest_name = \"\"\n",
    "    highest_sum = 0\n",
    "    with open(input_file, 'r') as file:\n",
    "        for line in file:\n",
    "            parts = line.strip().split()\n",
    "            if not parts:\n",
    "                continue     \n",
    "            \n",
    "            name = parts[0]\n",
    "            numbers = list(map(int, parts[1:]))      \n",
    "            total_sum = sum(numbers)\n",
    "            \n",
    "            if total_sum > highest_sum:\n",
    "                highest_sum = total_sum\n",
    "                highest_name = name\n",
    "\n",
    "    with open(output_file, 'w') as outfile:\n",
    "        outfile.write(f\"{highest_name} {highest_sum}\\n\")\n",
    "    \n",
    "    print(f\"Processed successfully. Highest entry: {highest_name} with sum {highest_sum}\")\n",
    "\n",
    "input_file = 'Data.txt'                       \n",
    "output_file = 'Output.txt'                     \n",
    "process_data_file(input_file, output_file)"
   ]
  },
  {
   "cell_type": "markdown",
   "metadata": {},
   "source": [
    "4. Volodya, being a nonconformist, is unhappy with the usual order of natural numbers.\n",
    "He decides to rearrange the first n natural numbers by placing all the odd numbers\n",
    "first in ascending order, followed by all the even numbers in ascending order. Given\n",
    "this new sequence, you are asked to determine which number is at the k-th position."
   ]
  },
  {
   "cell_type": "code",
   "execution_count": 11,
   "metadata": {},
   "outputs": [
    {
     "name": "stdout",
     "output_type": "stream",
     "text": [
      "2\n"
     ]
    }
   ],
   "source": [
    "def rearrange(n,k):\n",
    "    odd_numbers = [i for i in range (1,1+n) if i%2 != 0]\n",
    "    even_numbers = [i for i in  range(1,1+n) if i%2 ==0]\n",
    "    rearrange_number = odd_numbers + even_numbers \n",
    "    return rearrange_number [k-1]\n",
    "n = int(input(\"enter the value of n:\"))\n",
    "k = int(input(\"enter the value of k:\"))\n",
    "print(rearrange(n,k))"
   ]
  },
  {
   "cell_type": "markdown",
   "metadata": {},
   "source": [
    "5. You are given two sorted arrays, A and B, each containing n elements. You need to\n",
    "merge these arrays into a single sorted array, but with a twist. After merging, the\n",
    "new array should contain all the elements of A in their original order followed by all\n",
    "the elements of B in their original order. Your task is to find the k-th element in this\n",
    "new merged array."
   ]
  },
  {
   "cell_type": "code",
   "execution_count": 12,
   "metadata": {},
   "outputs": [
    {
     "name": "stdout",
     "output_type": "stream",
     "text": [
      "2\n"
     ]
    }
   ],
   "source": [
    "def new_merged(k):\n",
    "    new_merged_number = a + b\n",
    "    return new_merged_number [k-1]\n",
    "k = int(input(\"enter the value of k:\"))\n",
    "a = [1,3,5]\n",
    "b = [2,4,6]\n",
    "print(new_merged(k))\n"
   ]
  },
  {
   "cell_type": "markdown",
   "metadata": {},
   "source": [
    "6. Write a program to rotate a list to the left by k positions. The rotation should be\n",
    "performed in place without using extra space."
   ]
  },
  {
   "cell_type": "code",
   "execution_count": 13,
   "metadata": {},
   "outputs": [
    {
     "name": "stdout",
     "output_type": "stream",
     "text": [
      "[3, 4, 5, 1, 2]\n"
     ]
    }
   ],
   "source": [
    "def rotate(k,lst):\n",
    "    return lst[k:] + lst[:k]\n",
    "lst = [1,2,3,4,5]\n",
    "k = 2\n",
    "print(rotate(k,lst))\n",
    "    "
   ]
  },
  {
   "cell_type": "markdown",
   "metadata": {},
   "source": [
    "Intermediate Questions"
   ]
  },
  {
   "cell_type": "markdown",
   "metadata": {},
   "source": [
    "7. Palindrome Check\n",
    "Write a Python function that checks if a given string is a palindrome. A palindrome is\n",
    "a word, phrase, number, or other sequence of characters that reads the same\n",
    "forward and backward (ignoring spaces, punctuation, and capitalization)."
   ]
  },
  {
   "cell_type": "code",
   "execution_count": 20,
   "metadata": {},
   "outputs": [
    {
     "name": "stdout",
     "output_type": "stream",
     "text": [
      "True\n"
     ]
    }
   ],
   "source": [
    "a= input(\"Enter a string: \")\n",
    "b= a[-1::-1]\n",
    "if(a==b):\n",
    "    print(\"True\")\n",
    "else:\n",
    "    print(\"False\")\n"
   ]
  },
  {
   "cell_type": "markdown",
   "metadata": {},
   "source": [
    "8. Find the Missing Number\n",
    "You are given a list of n-1 integers in the range 1 to n. There are no duplicates in the\n",
    "list. One of the integers is missing. Write a Python function to find the missing\n",
    "integer."
   ]
  },
  {
   "cell_type": "code",
   "execution_count": 21,
   "metadata": {},
   "outputs": [
    {
     "name": "stdout",
     "output_type": "stream",
     "text": [
      "3.0\n"
     ]
    }
   ],
   "source": [
    "n=int(input(\"enter the value of n:\"))\n",
    "list=[1,2,4,5,6]\n",
    "totalsum=n*(n+1)/2\n",
    "actualsum=sum(list)\n",
    "missingnumber=totalsum-actualsum\n",
    "print(missingnumber)"
   ]
  },
  {
   "cell_type": "markdown",
   "metadata": {},
   "source": [
    "9. Count Vowels in a String\n",
    "Write a Python function that takes a string as input and counts the number of vowels\n",
    "(a, e, i, o, u) in the string."
   ]
  },
  {
   "cell_type": "code",
   "execution_count": 25,
   "metadata": {},
   "outputs": [
    {
     "name": "stdout",
     "output_type": "stream",
     "text": [
      "Total number of vowel= 3\n"
     ]
    }
   ],
   "source": [
    "a = input(\"Enter a string: \")\n",
    "i=0\n",
    "list = [\"a\",\"e\",\"i\",\"o\",\"u\",\"A\",\"E\",\"I\",\"O\",\"U\"]\n",
    "for char in a:\n",
    "   \t \tif char in list:\n",
    "       \t\t i += 1\n",
    "print(\"Total number of vowel=\", i)\n"
   ]
  },
  {
   "cell_type": "markdown",
   "metadata": {},
   "source": [
    "10. Finding the Longest Word in a Sentence\n",
    "Write a Python function that takes a sentence as input and returns the longest word\n",
    "in that sentence."
   ]
  },
  {
   "cell_type": "code",
   "execution_count": 67,
   "metadata": {},
   "outputs": [
    {
     "name": "stdout",
     "output_type": "stream",
     "text": [
      "star\n"
     ]
    }
   ],
   "source": [
    "a = input(\"Enter a Sentence: \")\n",
    "b= \"\"\n",
    "length = 0\n",
    "\n",
    "for word in a.split():\n",
    "    if len(word) > length:\n",
    "        b= word\n",
    "length = len(word)\n",
    "print(b)\n"
   ]
  },
  {
   "cell_type": "markdown",
   "metadata": {},
   "source": [
    "11. Area of a Circle\n",
    "Write a Python function that takes the radius of a circle as input and returns the area\n",
    "of the circle."
   ]
  },
  {
   "cell_type": "code",
   "execution_count": 26,
   "metadata": {},
   "outputs": [
    {
     "name": "stdout",
     "output_type": "stream",
     "text": [
      "12.56\n"
     ]
    }
   ],
   "source": [
    "radius=float(input(\"enter the radius:\"))\n",
    "area=3.14*radius*radius\n",
    "print(area)"
   ]
  },
  {
   "cell_type": "markdown",
   "metadata": {},
   "source": [
    "12. Write a Python function that determines if a person is eligible to vote based on their\n",
    "age and citizenship status. If citizenship status is True, then he is from India else he is\n",
    "not from India. If the age entered is 120 or above, display \"Invalid age.\" Also, if the\n",
    "age is 0 or less, display \"Invalid.\""
   ]
  },
  {
   "cell_type": "code",
   "execution_count": 68,
   "metadata": {},
   "outputs": [
    {
     "name": "stdout",
     "output_type": "stream",
     "text": [
      "Eligible to vote\n"
     ]
    }
   ],
   "source": [
    "a=input(\"Do you have indian citizenship\")\n",
    "if a==\"yes\":\n",
    "    b=int(input(\"enter your age:\"))\n",
    "    if(18<=b<120):\n",
    "        print(\"Eligible to vote\")\n",
    "    elif(0<b<18):\n",
    "        print(\"not eligible-underage\")\n",
    "    elif(b<0):\n",
    "        print(\"enter the valid age:\")\n",
    "    elif(b>=120):\n",
    "        print(\"enter the valid age:\")\n",
    "else:\n",
    "    print(\"not eligible-non citizen\")"
   ]
  },
  {
   "cell_type": "markdown",
   "metadata": {},
   "source": [
    "13. Write a Python function that calculates the tax owed based on a person's income.\n",
    "The tax brackets are as follows:\n",
    "\n",
    "\n",
    "a. Income up to ₹10,000: 10%\n",
    "\n",
    "b. Income between ₹10,001 and ₹50,000: 20%\n",
    "\n",
    "c. Income above ₹50,000: 30% If the income entered is negative, display\n",
    "\"Invalid income.\""
   ]
  },
  {
   "cell_type": "code",
   "execution_count": 72,
   "metadata": {},
   "outputs": [
    {
     "name": "stdout",
     "output_type": "stream",
     "text": [
      "18000.0\n"
     ]
    }
   ],
   "source": [
    "# test case 2 expected output is wrong. The correct expected output should be 6000\n",
    "# test case 3 expected output is wrong. The correct expected output should be 18000\n",
    "\n",
    "def calculate_tax(i):\n",
    "    if (i <= 10000):\n",
    "        return i*(10/100)\n",
    "    elif (i > 10000 and i < 50000):\n",
    "        return i*(20/100)\n",
    "    elif (i > 50000):\n",
    "        return i*(30/100)\n",
    "    else:\n",
    "        return -1\n",
    "a= int(input(\"enter your income:\"))\n",
    "\n",
    "ans = calculate_tax(a)\n",
    "\n",
    "if (ans == -1):\n",
    "    print(\"Invalid income\")\n",
    "else:\n",
    "    print(ans)\n",
    "    \n",
    "    "
   ]
  },
  {
   "cell_type": "markdown",
   "metadata": {},
   "source": [
    "Easy Questions"
   ]
  },
  {
   "cell_type": "markdown",
   "metadata": {},
   "source": [
    "14. Convert Celsius to Fahrenheit\n",
    "Write a Python function that converts a temperature from Celsius to Fahrenheit. Use\n",
    "the formula F = C * 9/5 + 32."
   ]
  },
  {
   "cell_type": "code",
   "execution_count": 42,
   "metadata": {},
   "outputs": [
    {
     "name": "stdout",
     "output_type": "stream",
     "text": [
      "77.0\n"
     ]
    }
   ],
   "source": [
    "c=int(input(\"enter the value of c: \"))\n",
    "f=c*9/5+32\n",
    "print(f)\n"
   ]
  },
  {
   "cell_type": "markdown",
   "metadata": {},
   "source": [
    "15. Count Occurrences of a Character in a String\n",
    "Write a Python function that counts the occurrences of a specific character in a given\n",
    "string.\n",
    "\n"
   ]
  },
  {
   "cell_type": "code",
   "execution_count": 47,
   "metadata": {},
   "outputs": [
    {
     "name": "stdout",
     "output_type": "stream",
     "text": [
      "2\n"
     ]
    }
   ],
   "source": [
    "word=(input(\"enter the word:\"))\n",
    "string=(input(\"enter the string:\"))\n",
    "count=word.count(string)\n",
    "print(count)\n"
   ]
  },
  {
   "cell_type": "markdown",
   "metadata": {},
   "source": [
    "16. Print the First n Natural Numbers\n",
    "Write a Python function that prints the first n natural numbers."
   ]
  },
  {
   "cell_type": "code",
   "execution_count": 48,
   "metadata": {},
   "outputs": [
    {
     "name": "stdout",
     "output_type": "stream",
     "text": [
      "1\n",
      "2\n",
      "3\n",
      "4\n",
      "5\n"
     ]
    }
   ],
   "source": [
    "n=int(input(\"enter the value of n:\"))\n",
    "for i in range(1,n+1):\n",
    "    print(i)\n"
   ]
  },
  {
   "cell_type": "markdown",
   "metadata": {},
   "source": [
    "17. Check if a String is a Substring\n",
    "Write a Python function that checks if a given substring is present in a string."
   ]
  },
  {
   "cell_type": "code",
   "execution_count": 50,
   "metadata": {},
   "outputs": [
    {
     "name": "stdout",
     "output_type": "stream",
     "text": [
      "true\n"
     ]
    }
   ],
   "source": [
    "string=input(\"enter the string:\")\n",
    "sunstring=input(\"enter the substring:\")\n",
    "if sunstring in string:\n",
    "    print(\"true\")\n",
    "else:\n",
    "     print(\"false\")\n"
   ]
  },
  {
   "cell_type": "markdown",
   "metadata": {},
   "source": [
    "18. Calculate the Average of a List of Numbers\n",
    "Write a Python program that calculates the average of a list of numbers."
   ]
  },
  {
   "cell_type": "code",
   "execution_count": 2,
   "metadata": {},
   "outputs": [
    {
     "name": "stdout",
     "output_type": "stream",
     "text": [
      "25.0\n"
     ]
    }
   ],
   "source": [
    "a = [10, 20, 30, 40]\n",
    "b= [5, 15, 25]\n",
    "c= sum(a)\n",
    "obs= len(a)\n",
    "avg = c/obs\n",
    "print(avg)\n"
   ]
  },
  {
   "cell_type": "markdown",
   "metadata": {},
   "source": [
    "19. Calculate the Perimeter of a Rectangle\n",
    "Write a Python program that calculates the perimeter of a rectangle given its length\n",
    "and width. Use the formula Perimeter = 2 * (length + width)."
   ]
  },
  {
   "cell_type": "code",
   "execution_count": 52,
   "metadata": {},
   "outputs": [
    {
     "name": "stdout",
     "output_type": "stream",
     "text": [
      "perimeter is:  16\n"
     ]
    }
   ],
   "source": [
    "length=int(input(\"enter the value of lenght:\"))\n",
    "width=int(input(\"enter the value of width:\"))\n",
    "perimeter=2*(length+width)\n",
    "print(\"perimeter is: \",perimeter)\n"
   ]
  },
  {
   "cell_type": "markdown",
   "metadata": {},
   "source": [
    "20. Write a Python program that finds the length of the longest word in a list of strings."
   ]
  },
  {
   "cell_type": "code",
   "execution_count": 55,
   "metadata": {},
   "outputs": [
    {
     "name": "stdout",
     "output_type": "stream",
     "text": [
      "4\n"
     ]
    }
   ],
   "source": [
    "x=input(\"Enter a string: \")\n",
    "y=input(\"Enter a string: \")\n",
    "z=input(\"Enter a string: \")\n",
    "l=[x,y,z]\n",
    "m=max(l,key=len)\n",
    "a=len(m)\n",
    "print(a)\n",
    "\n"
   ]
  },
  {
   "cell_type": "markdown",
   "metadata": {},
   "source": [
    "21. Write a Python program that calculates the Body Mass Index (BMI) of a person. The program\n",
    "should take the person's weight (in kilograms) and height (in meters) as input and compute\n",
    "the BMI using the formula\n",
    "\n",
    "BMI =\n",
    "Height\n",
    "(Weight)\n",
    "2"
   ]
  },
  {
   "cell_type": "code",
   "execution_count": 56,
   "metadata": {},
   "outputs": [
    {
     "name": "stdout",
     "output_type": "stream",
     "text": [
      "0.06111111111111111\n"
     ]
    }
   ],
   "source": [
    "height=float(input(\"enter the value of height:\"))\n",
    "weight=float(input(\"enter the value of weight:\"))\n",
    "BMI=height/(weight* weight)\n",
    "print(BMI)\n",
    "\n"
   ]
  }
 ],
 "metadata": {
  "kernelspec": {
   "display_name": ".env",
   "language": "python",
   "name": "python3"
  },
  "language_info": {
   "codemirror_mode": {
    "name": "ipython",
    "version": 3
   },
   "file_extension": ".py",
   "mimetype": "text/x-python",
   "name": "python",
   "nbconvert_exporter": "python",
   "pygments_lexer": "ipython3",
   "version": "3.12.5"
  }
 },
 "nbformat": 4,
 "nbformat_minor": 2
}
